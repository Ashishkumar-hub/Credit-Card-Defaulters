{
 "cells": [
  {
   "cell_type": "code",
   "execution_count": null,
   "metadata": {},
   "outputs": [],
   "source": [
    "\n",
    "\n",
    "date = 28011990\n",
    "time = 120210\n",
    "i=0\n",
    "\n",
    "\n",
    "for j in range(0,11):\n",
    "    new = data.iloc[i:i+101]\n",
    "    name = \"fraudDetection_\" +str(date) + '_' + str(time) + \".csv\"\n",
    "    new.to_csv(name, index=None, header=True)\n",
    "    i = 101\n",
    "    date+=1\n",
    "    time+=1"
   ]
  }
 ],
 "metadata": {
  "kernelspec": {
   "display_name": "Python 3",
   "language": "python",
   "name": "python3"
  },
  "language_info": {
   "codemirror_mode": {
    "name": "ipython",
    "version": 3
   },
   "file_extension": ".py",
   "mimetype": "text/x-python",
   "name": "python",
   "nbconvert_exporter": "python",
   "pygments_lexer": "ipython3",
   "version": "3.7.4"
  }
 },
 "nbformat": 4,
 "nbformat_minor": 4
}
